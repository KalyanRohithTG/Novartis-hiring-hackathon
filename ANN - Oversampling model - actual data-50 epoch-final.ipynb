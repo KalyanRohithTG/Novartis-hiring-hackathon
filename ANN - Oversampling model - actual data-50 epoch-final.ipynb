{
 "cells": [
  {
   "cell_type": "markdown",
   "metadata": {},
   "source": [
    "# Data preparation:"
   ]
  },
  {
   "cell_type": "code",
   "execution_count": 1,
   "metadata": {
    "collapsed": true
   },
   "outputs": [],
   "source": [
    "import matplotlib.pyplot as plt\n",
    "import numpy as np\n",
    "from sklearn.linear_model import LogisticRegression\n",
    "from sklearn.metrics import classification_report, confusion_matrix"
   ]
  },
  {
   "cell_type": "code",
   "execution_count": 2,
   "metadata": {
    "collapsed": true
   },
   "outputs": [],
   "source": [
    "import pandas as pd\n",
    "import numpy as np\n",
    "import statsmodels.api as sm"
   ]
  },
  {
   "cell_type": "code",
   "execution_count": 3,
   "metadata": {},
   "outputs": [
    {
     "name": "stderr",
     "output_type": "stream",
     "text": [
      "Using TensorFlow backend.\n"
     ]
    }
   ],
   "source": [
    "import keras"
   ]
  },
  {
   "cell_type": "code",
   "execution_count": 4,
   "metadata": {
    "collapsed": true
   },
   "outputs": [],
   "source": [
    "from keras.models import Sequential"
   ]
  },
  {
   "cell_type": "code",
   "execution_count": 5,
   "metadata": {
    "collapsed": true
   },
   "outputs": [],
   "source": [
    "from keras.layers import Dense"
   ]
  },
  {
   "cell_type": "code",
   "execution_count": 6,
   "metadata": {
    "collapsed": true
   },
   "outputs": [],
   "source": [
    "#importing the dataset\n",
    "mydata=pd.read_csv('/home/Documents/Novartis/Dataset/Train.csv',sep=\",\")"
   ]
  },
  {
   "cell_type": "code",
   "execution_count": 7,
   "metadata": {},
   "outputs": [
    {
     "name": "stdout",
     "output_type": "stream",
     "text": [
      "(23856, 18)\n"
     ]
    }
   ],
   "source": [
    "#take a look at the dataset\n",
    "print(mydata.shape)"
   ]
  },
  {
   "cell_type": "code",
   "execution_count": 8,
   "metadata": {},
   "outputs": [
    {
     "data": {
      "text/html": [
       "<div>\n",
       "<style scoped>\n",
       "    .dataframe tbody tr th:only-of-type {\n",
       "        vertical-align: middle;\n",
       "    }\n",
       "\n",
       "    .dataframe tbody tr th {\n",
       "        vertical-align: top;\n",
       "    }\n",
       "\n",
       "    .dataframe thead th {\n",
       "        text-align: right;\n",
       "    }\n",
       "</style>\n",
       "<table border=\"1\" class=\"dataframe\">\n",
       "  <thead>\n",
       "    <tr style=\"text-align: right;\">\n",
       "      <th></th>\n",
       "      <th>INCIDENT_ID</th>\n",
       "      <th>DATE</th>\n",
       "      <th>X_1</th>\n",
       "      <th>X_2</th>\n",
       "      <th>X_3</th>\n",
       "      <th>X_4</th>\n",
       "      <th>X_5</th>\n",
       "      <th>X_6</th>\n",
       "      <th>X_7</th>\n",
       "      <th>X_8</th>\n",
       "      <th>X_9</th>\n",
       "      <th>X_10</th>\n",
       "      <th>X_11</th>\n",
       "      <th>X_12</th>\n",
       "      <th>X_13</th>\n",
       "      <th>X_14</th>\n",
       "      <th>X_15</th>\n",
       "      <th>MULTIPLE_OFFENSE</th>\n",
       "    </tr>\n",
       "  </thead>\n",
       "  <tbody>\n",
       "    <tr>\n",
       "      <th>0</th>\n",
       "      <td>CR_102659</td>\n",
       "      <td>04-JUL-04</td>\n",
       "      <td>0</td>\n",
       "      <td>36</td>\n",
       "      <td>34</td>\n",
       "      <td>2</td>\n",
       "      <td>1</td>\n",
       "      <td>5</td>\n",
       "      <td>6</td>\n",
       "      <td>1</td>\n",
       "      <td>6</td>\n",
       "      <td>1</td>\n",
       "      <td>174</td>\n",
       "      <td>1.0</td>\n",
       "      <td>92</td>\n",
       "      <td>29</td>\n",
       "      <td>36</td>\n",
       "      <td>0</td>\n",
       "    </tr>\n",
       "    <tr>\n",
       "      <th>1</th>\n",
       "      <td>CR_189752</td>\n",
       "      <td>18-JUL-17</td>\n",
       "      <td>1</td>\n",
       "      <td>37</td>\n",
       "      <td>37</td>\n",
       "      <td>0</td>\n",
       "      <td>0</td>\n",
       "      <td>11</td>\n",
       "      <td>17</td>\n",
       "      <td>1</td>\n",
       "      <td>6</td>\n",
       "      <td>1</td>\n",
       "      <td>236</td>\n",
       "      <td>1.0</td>\n",
       "      <td>103</td>\n",
       "      <td>142</td>\n",
       "      <td>34</td>\n",
       "      <td>1</td>\n",
       "    </tr>\n",
       "    <tr>\n",
       "      <th>2</th>\n",
       "      <td>CR_184637</td>\n",
       "      <td>15-MAR-17</td>\n",
       "      <td>0</td>\n",
       "      <td>3</td>\n",
       "      <td>2</td>\n",
       "      <td>3</td>\n",
       "      <td>5</td>\n",
       "      <td>1</td>\n",
       "      <td>0</td>\n",
       "      <td>2</td>\n",
       "      <td>3</td>\n",
       "      <td>1</td>\n",
       "      <td>174</td>\n",
       "      <td>1.0</td>\n",
       "      <td>110</td>\n",
       "      <td>93</td>\n",
       "      <td>34</td>\n",
       "      <td>1</td>\n",
       "    </tr>\n",
       "    <tr>\n",
       "      <th>3</th>\n",
       "      <td>CR_139071</td>\n",
       "      <td>13-FEB-09</td>\n",
       "      <td>0</td>\n",
       "      <td>33</td>\n",
       "      <td>32</td>\n",
       "      <td>2</td>\n",
       "      <td>1</td>\n",
       "      <td>7</td>\n",
       "      <td>1</td>\n",
       "      <td>1</td>\n",
       "      <td>6</td>\n",
       "      <td>1</td>\n",
       "      <td>249</td>\n",
       "      <td>1.0</td>\n",
       "      <td>72</td>\n",
       "      <td>29</td>\n",
       "      <td>34</td>\n",
       "      <td>1</td>\n",
       "    </tr>\n",
       "    <tr>\n",
       "      <th>4</th>\n",
       "      <td>CR_109335</td>\n",
       "      <td>13-APR-05</td>\n",
       "      <td>0</td>\n",
       "      <td>33</td>\n",
       "      <td>32</td>\n",
       "      <td>2</td>\n",
       "      <td>1</td>\n",
       "      <td>8</td>\n",
       "      <td>3</td>\n",
       "      <td>0</td>\n",
       "      <td>5</td>\n",
       "      <td>1</td>\n",
       "      <td>174</td>\n",
       "      <td>0.0</td>\n",
       "      <td>112</td>\n",
       "      <td>29</td>\n",
       "      <td>43</td>\n",
       "      <td>1</td>\n",
       "    </tr>\n",
       "    <tr>\n",
       "      <th>...</th>\n",
       "      <td>...</td>\n",
       "      <td>...</td>\n",
       "      <td>...</td>\n",
       "      <td>...</td>\n",
       "      <td>...</td>\n",
       "      <td>...</td>\n",
       "      <td>...</td>\n",
       "      <td>...</td>\n",
       "      <td>...</td>\n",
       "      <td>...</td>\n",
       "      <td>...</td>\n",
       "      <td>...</td>\n",
       "      <td>...</td>\n",
       "      <td>...</td>\n",
       "      <td>...</td>\n",
       "      <td>...</td>\n",
       "      <td>...</td>\n",
       "      <td>...</td>\n",
       "    </tr>\n",
       "    <tr>\n",
       "      <th>23851</th>\n",
       "      <td>CR_88991</td>\n",
       "      <td>11-JAN-02</td>\n",
       "      <td>1</td>\n",
       "      <td>47</td>\n",
       "      <td>48</td>\n",
       "      <td>7</td>\n",
       "      <td>3</td>\n",
       "      <td>15</td>\n",
       "      <td>10</td>\n",
       "      <td>1</td>\n",
       "      <td>5</td>\n",
       "      <td>1</td>\n",
       "      <td>174</td>\n",
       "      <td>0.0</td>\n",
       "      <td>98</td>\n",
       "      <td>29</td>\n",
       "      <td>34</td>\n",
       "      <td>1</td>\n",
       "    </tr>\n",
       "    <tr>\n",
       "      <th>23852</th>\n",
       "      <td>CR_46369</td>\n",
       "      <td>05-FEB-97</td>\n",
       "      <td>0</td>\n",
       "      <td>33</td>\n",
       "      <td>32</td>\n",
       "      <td>2</td>\n",
       "      <td>1</td>\n",
       "      <td>5</td>\n",
       "      <td>6</td>\n",
       "      <td>0</td>\n",
       "      <td>5</td>\n",
       "      <td>1</td>\n",
       "      <td>174</td>\n",
       "      <td>0.0</td>\n",
       "      <td>112</td>\n",
       "      <td>29</td>\n",
       "      <td>43</td>\n",
       "      <td>1</td>\n",
       "    </tr>\n",
       "    <tr>\n",
       "      <th>23853</th>\n",
       "      <td>CR_157556</td>\n",
       "      <td>03-APR-12</td>\n",
       "      <td>0</td>\n",
       "      <td>25</td>\n",
       "      <td>25</td>\n",
       "      <td>9</td>\n",
       "      <td>0</td>\n",
       "      <td>3</td>\n",
       "      <td>5</td>\n",
       "      <td>1</td>\n",
       "      <td>6</td>\n",
       "      <td>1</td>\n",
       "      <td>174</td>\n",
       "      <td>0.0</td>\n",
       "      <td>10</td>\n",
       "      <td>29</td>\n",
       "      <td>18</td>\n",
       "      <td>1</td>\n",
       "    </tr>\n",
       "    <tr>\n",
       "      <th>23854</th>\n",
       "      <td>CR_103180</td>\n",
       "      <td>25-JAN-04</td>\n",
       "      <td>0</td>\n",
       "      <td>39</td>\n",
       "      <td>39</td>\n",
       "      <td>6</td>\n",
       "      <td>5</td>\n",
       "      <td>2</td>\n",
       "      <td>7</td>\n",
       "      <td>1</td>\n",
       "      <td>6</td>\n",
       "      <td>1</td>\n",
       "      <td>127</td>\n",
       "      <td>0.0</td>\n",
       "      <td>112</td>\n",
       "      <td>103</td>\n",
       "      <td>43</td>\n",
       "      <td>1</td>\n",
       "    </tr>\n",
       "    <tr>\n",
       "      <th>23855</th>\n",
       "      <td>CR_22575</td>\n",
       "      <td>08-NOV-94</td>\n",
       "      <td>7</td>\n",
       "      <td>36</td>\n",
       "      <td>34</td>\n",
       "      <td>2</td>\n",
       "      <td>1</td>\n",
       "      <td>9</td>\n",
       "      <td>8</td>\n",
       "      <td>0</td>\n",
       "      <td>5</td>\n",
       "      <td>1</td>\n",
       "      <td>249</td>\n",
       "      <td>1.0</td>\n",
       "      <td>92</td>\n",
       "      <td>29</td>\n",
       "      <td>34</td>\n",
       "      <td>1</td>\n",
       "    </tr>\n",
       "  </tbody>\n",
       "</table>\n",
       "<p>23856 rows × 18 columns</p>\n",
       "</div>"
      ],
      "text/plain": [
       "      INCIDENT_ID       DATE  X_1  X_2  X_3  X_4  X_5  X_6  X_7  X_8  X_9  \\\n",
       "0       CR_102659  04-JUL-04    0   36   34    2    1    5    6    1    6   \n",
       "1       CR_189752  18-JUL-17    1   37   37    0    0   11   17    1    6   \n",
       "2       CR_184637  15-MAR-17    0    3    2    3    5    1    0    2    3   \n",
       "3       CR_139071  13-FEB-09    0   33   32    2    1    7    1    1    6   \n",
       "4       CR_109335  13-APR-05    0   33   32    2    1    8    3    0    5   \n",
       "...           ...        ...  ...  ...  ...  ...  ...  ...  ...  ...  ...   \n",
       "23851    CR_88991  11-JAN-02    1   47   48    7    3   15   10    1    5   \n",
       "23852    CR_46369  05-FEB-97    0   33   32    2    1    5    6    0    5   \n",
       "23853   CR_157556  03-APR-12    0   25   25    9    0    3    5    1    6   \n",
       "23854   CR_103180  25-JAN-04    0   39   39    6    5    2    7    1    6   \n",
       "23855    CR_22575  08-NOV-94    7   36   34    2    1    9    8    0    5   \n",
       "\n",
       "       X_10  X_11  X_12  X_13  X_14  X_15  MULTIPLE_OFFENSE  \n",
       "0         1   174   1.0    92    29    36                 0  \n",
       "1         1   236   1.0   103   142    34                 1  \n",
       "2         1   174   1.0   110    93    34                 1  \n",
       "3         1   249   1.0    72    29    34                 1  \n",
       "4         1   174   0.0   112    29    43                 1  \n",
       "...     ...   ...   ...   ...   ...   ...               ...  \n",
       "23851     1   174   0.0    98    29    34                 1  \n",
       "23852     1   174   0.0   112    29    43                 1  \n",
       "23853     1   174   0.0    10    29    18                 1  \n",
       "23854     1   127   0.0   112   103    43                 1  \n",
       "23855     1   249   1.0    92    29    34                 1  \n",
       "\n",
       "[23856 rows x 18 columns]"
      ]
     },
     "execution_count": 8,
     "metadata": {},
     "output_type": "execute_result"
    }
   ],
   "source": [
    "mydata"
   ]
  },
  {
   "cell_type": "code",
   "execution_count": 9,
   "metadata": {
    "scrolled": false
   },
   "outputs": [
    {
     "name": "stdout",
     "output_type": "stream",
     "text": [
      "                X_1           X_2           X_3           X_4           X_5  \\\n",
      "count  23856.000000  23856.000000  23856.000000  23856.000000  23856.000000   \n",
      "mean       0.483778     24.791206     24.637450      4.276744      2.455609   \n",
      "std        1.439738     15.240231     15.135093      2.944672      1.963095   \n",
      "min        0.000000      0.000000      0.000000      0.000000      0.000000   \n",
      "25%        0.000000      7.000000      8.000000      2.000000      1.000000   \n",
      "50%        0.000000     24.000000     24.000000      4.000000      3.000000   \n",
      "75%        0.000000     36.000000     35.000000      6.000000      5.000000   \n",
      "max        7.000000     52.000000     52.000000     10.000000      5.000000   \n",
      "\n",
      "                X_6           X_7           X_8           X_9          X_10  \\\n",
      "count  23856.000000  23856.000000  23856.000000  23856.000000  23856.000000   \n",
      "mean       6.154175      4.876509      0.972460      4.924128      1.244802   \n",
      "std        4.471756      3.881931      1.453144      1.362625      1.119301   \n",
      "min        1.000000      0.000000      0.000000      0.000000      1.000000   \n",
      "25%        3.000000      2.000000      0.000000      5.000000      1.000000   \n",
      "50%        5.000000      4.000000      1.000000      5.000000      1.000000   \n",
      "75%        8.000000      7.000000      1.000000      6.000000      1.000000   \n",
      "max       19.000000     18.000000     99.000000      6.000000     90.000000   \n",
      "\n",
      "               X_11          X_12          X_13          X_14          X_15  \\\n",
      "count  23856.000000  23674.000000  23856.000000  23856.000000  23856.000000   \n",
      "mean     206.954519      0.974064     85.237383     72.674296     33.464747   \n",
      "std       93.033348      1.167725     27.597226     43.297320      8.386834   \n",
      "min        0.000000      0.000000      0.000000      0.000000      0.000000   \n",
      "25%      174.000000      1.000000     72.000000     29.000000     34.000000   \n",
      "50%      249.000000      1.000000     98.000000     62.000000     34.000000   \n",
      "75%      249.000000      1.000000    103.000000    107.000000     34.000000   \n",
      "max      332.000000     90.000000    116.000000    142.000000     50.000000   \n",
      "\n",
      "       MULTIPLE_OFFENSE  \n",
      "count      23856.000000  \n",
      "mean           0.955231  \n",
      "std            0.206800  \n",
      "min            0.000000  \n",
      "25%            1.000000  \n",
      "50%            1.000000  \n",
      "75%            1.000000  \n",
      "max            1.000000  \n"
     ]
    }
   ],
   "source": [
    "#summarize the data\n",
    "print(mydata.describe())"
   ]
  },
  {
   "cell_type": "code",
   "execution_count": 10,
   "metadata": {},
   "outputs": [
    {
     "name": "stdout",
     "output_type": "stream",
     "text": [
      "<class 'pandas.core.frame.DataFrame'>\n",
      "RangeIndex: 23856 entries, 0 to 23855\n",
      "Data columns (total 18 columns):\n",
      " #   Column            Non-Null Count  Dtype  \n",
      "---  ------            --------------  -----  \n",
      " 0   INCIDENT_ID       23856 non-null  object \n",
      " 1   DATE              23856 non-null  object \n",
      " 2   X_1               23856 non-null  int64  \n",
      " 3   X_2               23856 non-null  int64  \n",
      " 4   X_3               23856 non-null  int64  \n",
      " 5   X_4               23856 non-null  int64  \n",
      " 6   X_5               23856 non-null  int64  \n",
      " 7   X_6               23856 non-null  int64  \n",
      " 8   X_7               23856 non-null  int64  \n",
      " 9   X_8               23856 non-null  int64  \n",
      " 10  X_9               23856 non-null  int64  \n",
      " 11  X_10              23856 non-null  int64  \n",
      " 12  X_11              23856 non-null  int64  \n",
      " 13  X_12              23674 non-null  float64\n",
      " 14  X_13              23856 non-null  int64  \n",
      " 15  X_14              23856 non-null  int64  \n",
      " 16  X_15              23856 non-null  int64  \n",
      " 17  MULTIPLE_OFFENSE  23856 non-null  int64  \n",
      "dtypes: float64(1), int64(15), object(2)\n",
      "memory usage: 3.3+ MB\n"
     ]
    }
   ],
   "source": [
    "mydata.info() #Checking null values"
   ]
  },
  {
   "cell_type": "markdown",
   "metadata": {},
   "source": [
    "## Missing values imputation"
   ]
  },
  {
   "cell_type": "code",
   "execution_count": 11,
   "metadata": {
    "scrolled": true
   },
   "outputs": [
    {
     "data": {
      "text/plain": [
       "1.0     15674\n",
       "0.0      5171\n",
       "2.0      2039\n",
       "3.0       476\n",
       "4.0       176\n",
       "5.0        59\n",
       "6.0        36\n",
       "8.0         9\n",
       "10.0        7\n",
       "9.0         6\n",
       "7.0         4\n",
       "11.0        4\n",
       "15.0        2\n",
       "20.0        2\n",
       "17.0        1\n",
       "58.0        1\n",
       "50.0        1\n",
       "40.0        1\n",
       "16.0        1\n",
       "90.0        1\n",
       "12.0        1\n",
       "30.0        1\n",
       "14.0        1\n",
       "Name: X_12, dtype: int64"
      ]
     },
     "execution_count": 11,
     "metadata": {},
     "output_type": "execute_result"
    }
   ],
   "source": [
    "mydata['X_12'].value_counts()"
   ]
  },
  {
   "cell_type": "code",
   "execution_count": 12,
   "metadata": {
    "collapsed": true
   },
   "outputs": [],
   "source": [
    "mydata['X_12'] = mydata['X_12'].fillna(1)"
   ]
  },
  {
   "cell_type": "code",
   "execution_count": 13,
   "metadata": {},
   "outputs": [
    {
     "name": "stdout",
     "output_type": "stream",
     "text": [
      "<class 'pandas.core.frame.DataFrame'>\n",
      "RangeIndex: 23856 entries, 0 to 23855\n",
      "Data columns (total 18 columns):\n",
      " #   Column            Non-Null Count  Dtype  \n",
      "---  ------            --------------  -----  \n",
      " 0   INCIDENT_ID       23856 non-null  object \n",
      " 1   DATE              23856 non-null  object \n",
      " 2   X_1               23856 non-null  int64  \n",
      " 3   X_2               23856 non-null  int64  \n",
      " 4   X_3               23856 non-null  int64  \n",
      " 5   X_4               23856 non-null  int64  \n",
      " 6   X_5               23856 non-null  int64  \n",
      " 7   X_6               23856 non-null  int64  \n",
      " 8   X_7               23856 non-null  int64  \n",
      " 9   X_8               23856 non-null  int64  \n",
      " 10  X_9               23856 non-null  int64  \n",
      " 11  X_10              23856 non-null  int64  \n",
      " 12  X_11              23856 non-null  int64  \n",
      " 13  X_12              23856 non-null  float64\n",
      " 14  X_13              23856 non-null  int64  \n",
      " 15  X_14              23856 non-null  int64  \n",
      " 16  X_15              23856 non-null  int64  \n",
      " 17  MULTIPLE_OFFENSE  23856 non-null  int64  \n",
      "dtypes: float64(1), int64(15), object(2)\n",
      "memory usage: 3.3+ MB\n"
     ]
    }
   ],
   "source": [
    "mydata.info()"
   ]
  },
  {
   "cell_type": "code",
   "execution_count": 14,
   "metadata": {},
   "outputs": [
    {
     "name": "stdout",
     "output_type": "stream",
     "text": [
      "X_1                  1.439738\n",
      "X_2                 15.240231\n",
      "X_3                 15.135093\n",
      "X_4                  2.944672\n",
      "X_5                  1.963095\n",
      "X_6                  4.471756\n",
      "X_7                  3.881931\n",
      "X_8                  1.453144\n",
      "X_9                  1.362625\n",
      "X_10                 1.119301\n",
      "X_11                93.033348\n",
      "X_12                 1.163264\n",
      "X_13                27.597226\n",
      "X_14                43.297320\n",
      "X_15                 8.386834\n",
      "MULTIPLE_OFFENSE     0.206800\n",
      "dtype: float64\n"
     ]
    }
   ],
   "source": [
    "#find the standard deviation of each column\n",
    "print(mydata.std())"
   ]
  },
  {
   "cell_type": "code",
   "execution_count": 15,
   "metadata": {
    "collapsed": true
   },
   "outputs": [],
   "source": [
    "mydata = mydata[['X_1', 'X_2', 'X_3', 'X_4', 'X_5', 'X_6', 'X_7',\n",
    "       'X_8', 'X_9', 'X_10', 'X_11', 'X_12', 'X_13', 'X_14', 'X_15',\n",
    "       'MULTIPLE_OFFENSE']]\n",
    "#mydata['X_12'] = mydata['X_12'].fillna(1)"
   ]
  },
  {
   "cell_type": "code",
   "execution_count": 16,
   "metadata": {
    "collapsed": true
   },
   "outputs": [],
   "source": [
    "X = mydata.loc[:, mydata.columns != 'MULTIPLE_OFFENSE']\n",
    "y = mydata.MULTIPLE_OFFENSE"
   ]
  },
  {
   "cell_type": "markdown",
   "metadata": {},
   "source": [
    "## Over sampling"
   ]
  },
  {
   "cell_type": "code",
   "execution_count": 17,
   "metadata": {},
   "outputs": [
    {
     "name": "stdout",
     "output_type": "stream",
     "text": [
      "21720 new random picked points\n"
     ]
    }
   ],
   "source": [
    "from imblearn.over_sampling import RandomOverSampler\n",
    "ros = RandomOverSampler()\n",
    "X_ros, y_ros = ros.fit_sample(X, y)\n",
    "print(X_ros.shape[0] - X.shape[0], 'new random picked points')\n",
    "df_new = pd.concat([pd.DataFrame(X_ros), pd.DataFrame(y_ros)], axis=1)"
   ]
  },
  {
   "cell_type": "code",
   "execution_count": 18,
   "metadata": {},
   "outputs": [
    {
     "data": {
      "text/plain": [
       "1    22788\n",
       "0    22788\n",
       "Name: MULTIPLE_OFFENSE, dtype: int64"
      ]
     },
     "execution_count": 18,
     "metadata": {},
     "output_type": "execute_result"
    }
   ],
   "source": [
    "df_new['MULTIPLE_OFFENSE'].value_counts()"
   ]
  },
  {
   "cell_type": "markdown",
   "metadata": {},
   "source": [
    "# Data visualization:"
   ]
  },
  {
   "cell_type": "code",
   "execution_count": 19,
   "metadata": {
    "collapsed": true
   },
   "outputs": [],
   "source": [
    "import pylab as pyl #for generating plots: show()"
   ]
  },
  {
   "cell_type": "code",
   "execution_count": 20,
   "metadata": {
    "collapsed": true
   },
   "outputs": [],
   "source": [
    "import matplotlib.pyplot as plt #for tight_layout()"
   ]
  },
  {
   "cell_type": "code",
   "execution_count": 21,
   "metadata": {},
   "outputs": [
    {
     "data": {
      "image/png": "[encoded data removed]",
      "text/plain": [
       "<Figure size 432x288 with 16 Axes>"
      ]
     },
     "metadata": {
      "needs_background": "light"
     },
     "output_type": "display_data"
    }
   ],
   "source": [
    "#plot histograms of all the columns\n",
    "mydata.hist()\n",
    "\n",
    "\n",
    "plt.tight_layout() #tight_layout(): adjust spacing between subplots to minimize the overlaps.\n",
    "pyl.show()         #show the histograms"
   ]
  },
  {
   "cell_type": "markdown",
   "metadata": {},
   "source": [
    "# Create placeholder for y-intercept"
   ]
  },
  {
   "cell_type": "code",
   "execution_count": 22,
   "metadata": {
    "collapsed": true
   },
   "outputs": [],
   "source": [
    "mydata = df_new"
   ]
  },
  {
   "cell_type": "code",
   "execution_count": 23,
   "metadata": {},
   "outputs": [
    {
     "data": {
      "text/html": [
       "<div>\n",
       "<style scoped>\n",
       "    .dataframe tbody tr th:only-of-type {\n",
       "        vertical-align: middle;\n",
       "    }\n",
       "\n",
       "    .dataframe tbody tr th {\n",
       "        vertical-align: top;\n",
       "    }\n",
       "\n",
       "    .dataframe thead th {\n",
       "        text-align: right;\n",
       "    }\n",
       "</style>\n",
       "<table border=\"1\" class=\"dataframe\">\n",
       "  <thead>\n",
       "    <tr style=\"text-align: right;\">\n",
       "      <th></th>\n",
       "      <th>X_1</th>\n",
       "      <th>X_2</th>\n",
       "      <th>X_3</th>\n",
       "      <th>X_4</th>\n",
       "      <th>X_5</th>\n",
       "      <th>X_6</th>\n",
       "      <th>X_7</th>\n",
       "      <th>X_8</th>\n",
       "      <th>X_9</th>\n",
       "      <th>X_10</th>\n",
       "      <th>X_11</th>\n",
       "      <th>X_12</th>\n",
       "      <th>X_13</th>\n",
       "      <th>X_14</th>\n",
       "      <th>X_15</th>\n",
       "      <th>MULTIPLE_OFFENSE</th>\n",
       "      <th>int</th>\n",
       "    </tr>\n",
       "  </thead>\n",
       "  <tbody>\n",
       "    <tr>\n",
       "      <th>0</th>\n",
       "      <td>0</td>\n",
       "      <td>36</td>\n",
       "      <td>34</td>\n",
       "      <td>2</td>\n",
       "      <td>1</td>\n",
       "      <td>5</td>\n",
       "      <td>6</td>\n",
       "      <td>1</td>\n",
       "      <td>6</td>\n",
       "      <td>1</td>\n",
       "      <td>174</td>\n",
       "      <td>1.0</td>\n",
       "      <td>92</td>\n",
       "      <td>29</td>\n",
       "      <td>36</td>\n",
       "      <td>0</td>\n",
       "      <td>1</td>\n",
       "    </tr>\n",
       "    <tr>\n",
       "      <th>1</th>\n",
       "      <td>1</td>\n",
       "      <td>37</td>\n",
       "      <td>37</td>\n",
       "      <td>0</td>\n",
       "      <td>0</td>\n",
       "      <td>11</td>\n",
       "      <td>17</td>\n",
       "      <td>1</td>\n",
       "      <td>6</td>\n",
       "      <td>1</td>\n",
       "      <td>236</td>\n",
       "      <td>1.0</td>\n",
       "      <td>103</td>\n",
       "      <td>142</td>\n",
       "      <td>34</td>\n",
       "      <td>1</td>\n",
       "      <td>1</td>\n",
       "    </tr>\n",
       "    <tr>\n",
       "      <th>2</th>\n",
       "      <td>0</td>\n",
       "      <td>3</td>\n",
       "      <td>2</td>\n",
       "      <td>3</td>\n",
       "      <td>5</td>\n",
       "      <td>1</td>\n",
       "      <td>0</td>\n",
       "      <td>2</td>\n",
       "      <td>3</td>\n",
       "      <td>1</td>\n",
       "      <td>174</td>\n",
       "      <td>1.0</td>\n",
       "      <td>110</td>\n",
       "      <td>93</td>\n",
       "      <td>34</td>\n",
       "      <td>1</td>\n",
       "      <td>1</td>\n",
       "    </tr>\n",
       "    <tr>\n",
       "      <th>3</th>\n",
       "      <td>0</td>\n",
       "      <td>33</td>\n",
       "      <td>32</td>\n",
       "      <td>2</td>\n",
       "      <td>1</td>\n",
       "      <td>7</td>\n",
       "      <td>1</td>\n",
       "      <td>1</td>\n",
       "      <td>6</td>\n",
       "      <td>1</td>\n",
       "      <td>249</td>\n",
       "      <td>1.0</td>\n",
       "      <td>72</td>\n",
       "      <td>29</td>\n",
       "      <td>34</td>\n",
       "      <td>1</td>\n",
       "      <td>1</td>\n",
       "    </tr>\n",
       "    <tr>\n",
       "      <th>4</th>\n",
       "      <td>0</td>\n",
       "      <td>33</td>\n",
       "      <td>32</td>\n",
       "      <td>2</td>\n",
       "      <td>1</td>\n",
       "      <td>8</td>\n",
       "      <td>3</td>\n",
       "      <td>0</td>\n",
       "      <td>5</td>\n",
       "      <td>1</td>\n",
       "      <td>174</td>\n",
       "      <td>0.0</td>\n",
       "      <td>112</td>\n",
       "      <td>29</td>\n",
       "      <td>43</td>\n",
       "      <td>1</td>\n",
       "      <td>1</td>\n",
       "    </tr>\n",
       "  </tbody>\n",
       "</table>\n",
       "</div>"
      ],
      "text/plain": [
       "   X_1  X_2  X_3  X_4  X_5  X_6  X_7  X_8  X_9  X_10  X_11  X_12  X_13  X_14  \\\n",
       "0    0   36   34    2    1    5    6    1    6     1   174   1.0    92    29   \n",
       "1    1   37   37    0    0   11   17    1    6     1   236   1.0   103   142   \n",
       "2    0    3    2    3    5    1    0    2    3     1   174   1.0   110    93   \n",
       "3    0   33   32    2    1    7    1    1    6     1   249   1.0    72    29   \n",
       "4    0   33   32    2    1    8    3    0    5     1   174   0.0   112    29   \n",
       "\n",
       "   X_15  MULTIPLE_OFFENSE  int  \n",
       "0    36                 0    1  \n",
       "1    34                 1    1  \n",
       "2    34                 1    1  \n",
       "3    34                 1    1  \n",
       "4    43                 1    1  "
      ]
     },
     "execution_count": 23,
     "metadata": {},
     "output_type": "execute_result"
    }
   ],
   "source": [
    "#explicitly create a placeholder for y-intercept: b0\n",
    "mydata['int']=1\n",
    "mydata.head()"
   ]
  },
  {
   "cell_type": "code",
   "execution_count": 24,
   "metadata": {},
   "outputs": [
    {
     "data": {
      "text/plain": [
       "(45576, 17)"
      ]
     },
     "execution_count": 24,
     "metadata": {},
     "output_type": "execute_result"
    }
   ],
   "source": [
    "mydata.shape"
   ]
  },
  {
   "cell_type": "code",
   "execution_count": 25,
   "metadata": {},
   "outputs": [
    {
     "data": {
      "text/plain": [
       "Index(['X_1', 'X_2', 'X_3', 'X_4', 'X_5', 'X_6', 'X_7', 'X_8', 'X_9', 'X_10',\n",
       "       'X_11', 'X_12', 'X_13', 'X_14', 'X_15', 'MULTIPLE_OFFENSE', 'int'],\n",
       "      dtype='object')"
      ]
     },
     "execution_count": 25,
     "metadata": {},
     "output_type": "execute_result"
    }
   ],
   "source": [
    "mydata.columns"
   ]
  },
  {
   "cell_type": "markdown",
   "metadata": {},
   "source": [
    "# Model creation"
   ]
  },
  {
   "cell_type": "code",
   "execution_count": 26,
   "metadata": {
    "collapsed": true
   },
   "outputs": [],
   "source": [
    "x_train= mydata[['X_1', 'X_2', 'X_3', 'X_4', 'X_5', 'X_6', 'X_7',\n",
    "                'X_8', 'X_9', 'X_10', 'X_11', 'X_12', 'X_13', 'X_14', 'X_15','int']]"
   ]
  },
  {
   "cell_type": "code",
   "execution_count": 27,
   "metadata": {
    "collapsed": true
   },
   "outputs": [],
   "source": [
    "y_train = mydata['MULTIPLE_OFFENSE']"
   ]
  },
  {
   "cell_type": "code",
   "execution_count": 28,
   "metadata": {
    "collapsed": true
   },
   "outputs": [],
   "source": [
    "classifier = Sequential()"
   ]
  },
  {
   "cell_type": "code",
   "execution_count": 29,
   "metadata": {
    "scrolled": true
   },
   "outputs": [
    {
     "name": "stderr",
     "output_type": "stream",
     "text": [
      "/home/asi/anaconda3/lib/python3.7/site-packages/ipykernel_launcher.py:1: UserWarning: Update your `Dense` call to the Keras 2 API: `Dense(activation=\"relu\", input_dim=16, units=6, kernel_initializer=\"uniform\")`\n",
      "  \"\"\"Entry point for launching an IPython kernel.\n",
      "/home/asi/anaconda3/lib/python3.7/site-packages/ipykernel_launcher.py:2: UserWarning: Update your `Dense` call to the Keras 2 API: `Dense(activation=\"relu\", units=6, kernel_initializer=\"uniform\")`\n",
      "  \n",
      "/home/asi/anaconda3/lib/python3.7/site-packages/ipykernel_launcher.py:3: UserWarning: Update your `Dense` call to the Keras 2 API: `Dense(activation=\"sigmoid\", units=1, kernel_initializer=\"uniform\")`\n",
      "  This is separate from the ipykernel package so we can avoid doing imports until\n",
      "/home/asi/anaconda3/lib/python3.7/site-packages/ipykernel_launcher.py:5: UserWarning: The `nb_epoch` argument in `fit` has been renamed `epochs`.\n",
      "  \"\"\"\n"
     ]
    },
    {
     "name": "stdout",
     "output_type": "stream",
     "text": [
      "Epoch 1/50\n",
      "45576/45576 [==============================] - 5s 99us/step - loss: 0.3979 - accuracy: 0.8231\n",
      "Epoch 2/50\n",
      "45576/45576 [==============================] - 4s 96us/step - loss: 0.2695 - accuracy: 0.8975\n",
      "Epoch 3/50\n",
      "45576/45576 [==============================] - 5s 99us/step - loss: 0.2365 - accuracy: 0.9107\n",
      "Epoch 4/50\n",
      "45576/45576 [==============================] - 4s 97us/step - loss: 0.2236 - accuracy: 0.9139\n",
      "Epoch 5/50\n",
      "45576/45576 [==============================] - 4s 95us/step - loss: 0.2089 - accuracy: 0.9200\n",
      "Epoch 6/50\n",
      "45576/45576 [==============================] - 4s 98us/step - loss: 0.2006 - accuracy: 0.9241\n",
      "Epoch 7/50\n",
      "45576/45576 [==============================] - 5s 100us/step - loss: 0.1978 - accuracy: 0.9245\n",
      "Epoch 8/50\n",
      "45576/45576 [==============================] - 4s 97us/step - loss: 0.1938 - accuracy: 0.9272\n",
      "Epoch 9/50\n",
      "45576/45576 [==============================] - 4s 97us/step - loss: 0.1881 - accuracy: 0.9283\n",
      "Epoch 10/50\n",
      "45576/45576 [==============================] - 4s 98us/step - loss: 0.1842 - accuracy: 0.9314\n",
      "Epoch 11/50\n",
      "45576/45576 [==============================] - 4s 88us/step - loss: 0.1788 - accuracy: 0.9326\n",
      "Epoch 12/50\n",
      "45576/45576 [==============================] - 4s 92us/step - loss: 0.1812 - accuracy: 0.9313\n",
      "Epoch 13/50\n",
      "45576/45576 [==============================] - 4s 89us/step - loss: 0.1756 - accuracy: 0.9342\n",
      "Epoch 14/50\n",
      "45576/45576 [==============================] - 5s 108us/step - loss: 0.1757 - accuracy: 0.9338\n",
      "Epoch 15/50\n",
      "45576/45576 [==============================] - 5s 112us/step - loss: 0.1734 - accuracy: 0.9353\n",
      "Epoch 16/50\n",
      "45576/45576 [==============================] - 5s 102us/step - loss: 0.1719 - accuracy: 0.9362\n",
      "Epoch 17/50\n",
      "45576/45576 [==============================] - 5s 115us/step - loss: 0.1707 - accuracy: 0.9353\n",
      "Epoch 18/50\n",
      "45576/45576 [==============================] - 12s 262us/step - loss: 0.1678 - accuracy: 0.9367\n",
      "Epoch 19/50\n",
      "45576/45576 [==============================] - 5s 106us/step - loss: 0.1663 - accuracy: 0.9384\n",
      "Epoch 20/50\n",
      "45576/45576 [==============================] - 5s 100us/step - loss: 0.1674 - accuracy: 0.9376\n",
      "Epoch 21/50\n",
      "45576/45576 [==============================] - 5s 102us/step - loss: 0.1654 - accuracy: 0.9386\n",
      "Epoch 22/50\n",
      "45576/45576 [==============================] - 5s 101us/step - loss: 0.1626 - accuracy: 0.9391\n",
      "Epoch 23/50\n",
      "45576/45576 [==============================] - 5s 101us/step - loss: 0.1634 - accuracy: 0.9393\n",
      "Epoch 24/50\n",
      "45576/45576 [==============================] - 5s 101us/step - loss: 0.1644 - accuracy: 0.9376\n",
      "Epoch 25/50\n",
      "45576/45576 [==============================] - 5s 102us/step - loss: 0.1627 - accuracy: 0.9389\n",
      "Epoch 26/50\n",
      "45576/45576 [==============================] - 5s 102us/step - loss: 0.1635 - accuracy: 0.9385\n",
      "Epoch 27/50\n",
      "45576/45576 [==============================] - 5s 104us/step - loss: 0.1629 - accuracy: 0.9396\n",
      "Epoch 28/50\n",
      "45576/45576 [==============================] - 5s 100us/step - loss: 0.1578 - accuracy: 0.9420\n",
      "Epoch 29/50\n",
      "45576/45576 [==============================] - 5s 100us/step - loss: 0.1569 - accuracy: 0.9423\n",
      "Epoch 30/50\n",
      "45576/45576 [==============================] - 5s 99us/step - loss: 0.1561 - accuracy: 0.9430\n",
      "Epoch 31/50\n",
      "45576/45576 [==============================] - 5s 100us/step - loss: 0.1567 - accuracy: 0.9420\n",
      "Epoch 32/50\n",
      "45576/45576 [==============================] - 5s 100us/step - loss: 0.1584 - accuracy: 0.9407\n",
      "Epoch 33/50\n",
      "45576/45576 [==============================] - 5s 100us/step - loss: 0.1615 - accuracy: 0.9389\n",
      "Epoch 34/50\n",
      "45576/45576 [==============================] - 5s 99us/step - loss: 0.1572 - accuracy: 0.9406\n",
      "Epoch 35/50\n",
      "45576/45576 [==============================] - 5s 104us/step - loss: 0.1531 - accuracy: 0.9428\n",
      "Epoch 36/50\n",
      "45576/45576 [==============================] - 6s 121us/step - loss: 0.1539 - accuracy: 0.9414\n",
      "Epoch 37/50\n",
      "45576/45576 [==============================] - 4s 87us/step - loss: 0.1557 - accuracy: 0.9412\n",
      "Epoch 38/50\n",
      "45576/45576 [==============================] - 4s 83us/step - loss: 0.1560 - accuracy: 0.9416\n",
      "Epoch 39/50\n",
      "45576/45576 [==============================] - 5s 101us/step - loss: 0.1518 - accuracy: 0.9433\n",
      "Epoch 40/50\n",
      "45576/45576 [==============================] - 4s 97us/step - loss: 0.1534 - accuracy: 0.9426\n",
      "Epoch 41/50\n",
      "45576/45576 [==============================] - 5s 108us/step - loss: 0.1504 - accuracy: 0.9431\n",
      "Epoch 42/50\n",
      "45576/45576 [==============================] - 5s 104us/step - loss: 0.1496 - accuracy: 0.9443\n",
      "Epoch 43/50\n",
      "45576/45576 [==============================] - 4s 96us/step - loss: 0.1492 - accuracy: 0.9439\n",
      "Epoch 44/50\n",
      "45576/45576 [==============================] - 4s 92us/step - loss: 0.1563 - accuracy: 0.9399\n",
      "Epoch 45/50\n",
      "45576/45576 [==============================] - 4s 90us/step - loss: 0.1507 - accuracy: 0.9426\n",
      "Epoch 46/50\n",
      "45576/45576 [==============================] - 4s 87us/step - loss: 0.1499 - accuracy: 0.9432\n",
      "Epoch 47/50\n",
      "45576/45576 [==============================] - 4s 92us/step - loss: 0.1472 - accuracy: 0.9453\n",
      "Epoch 48/50\n",
      "45576/45576 [==============================] - 4s 92us/step - loss: 0.1494 - accuracy: 0.9439\n",
      "Epoch 49/50\n",
      "45576/45576 [==============================] - 4s 90us/step - loss: 0.1544 - accuracy: 0.9411\n",
      "Epoch 50/50\n",
      "45576/45576 [==============================] - 4s 96us/step - loss: 0.1547 - accuracy: 0.9424\n"
     ]
    },
    {
     "data": {
      "text/plain": [
       "<keras.callbacks.callbacks.History at 0x7fd5394f0a90>"
      ]
     },
     "execution_count": 29,
     "metadata": {},
     "output_type": "execute_result"
    }
   ],
   "source": [
    "classifier.add(Dense(output_dim = 6, init = 'uniform', activation = 'relu', input_dim = 16))\n",
    "classifier.add(Dense(output_dim = 6, init = 'uniform', activation = 'relu'))\n",
    "classifier.add(Dense(output_dim = 1, init = 'uniform', activation = 'sigmoid'))\n",
    "classifier.compile(optimizer = 'adam', loss = 'binary_crossentropy', metrics = ['accuracy'])\n",
    "classifier.fit(x_train, y_train, batch_size = 10, nb_epoch = 50)"
   ]
  },
  {
   "cell_type": "markdown",
   "metadata": {},
   "source": [
    "# Test data to predict the hack"
   ]
  },
  {
   "cell_type": "code",
   "execution_count": 30,
   "metadata": {
    "collapsed": true
   },
   "outputs": [],
   "source": [
    "test = pd.read_csv('/home/asi/Documents/Novartis/Dataset/Test.csv')"
   ]
  },
  {
   "cell_type": "code",
   "execution_count": 31,
   "metadata": {
    "collapsed": true
   },
   "outputs": [],
   "source": [
    "test['int']=1"
   ]
  },
  {
   "cell_type": "code",
   "execution_count": 32,
   "metadata": {},
   "outputs": [
    {
     "name": "stdout",
     "output_type": "stream",
     "text": [
      "<class 'pandas.core.frame.DataFrame'>\n",
      "RangeIndex: 15903 entries, 0 to 15902\n",
      "Data columns (total 18 columns):\n",
      " #   Column       Non-Null Count  Dtype  \n",
      "---  ------       --------------  -----  \n",
      " 0   INCIDENT_ID  15903 non-null  object \n",
      " 1   DATE         15903 non-null  object \n",
      " 2   X_1          15903 non-null  int64  \n",
      " 3   X_2          15903 non-null  int64  \n",
      " 4   X_3          15903 non-null  int64  \n",
      " 5   X_4          15903 non-null  int64  \n",
      " 6   X_5          15903 non-null  int64  \n",
      " 7   X_6          15903 non-null  int64  \n",
      " 8   X_7          15903 non-null  int64  \n",
      " 9   X_8          15903 non-null  int64  \n",
      " 10  X_9          15903 non-null  int64  \n",
      " 11  X_10         15903 non-null  int64  \n",
      " 12  X_11         15903 non-null  int64  \n",
      " 13  X_12         15776 non-null  float64\n",
      " 14  X_13         15903 non-null  int64  \n",
      " 15  X_14         15903 non-null  int64  \n",
      " 16  X_15         15903 non-null  int64  \n",
      " 17  int          15903 non-null  int64  \n",
      "dtypes: float64(1), int64(15), object(2)\n",
      "memory usage: 2.2+ MB\n"
     ]
    }
   ],
   "source": [
    "test.info()"
   ]
  },
  {
   "cell_type": "code",
   "execution_count": 33,
   "metadata": {},
   "outputs": [
    {
     "data": {
      "text/plain": [
       "Index(['INCIDENT_ID', 'DATE', 'X_1', 'X_2', 'X_3', 'X_4', 'X_5', 'X_6', 'X_7',\n",
       "       'X_8', 'X_9', 'X_10', 'X_11', 'X_12', 'X_13', 'X_14', 'X_15', 'int'],\n",
       "      dtype='object')"
      ]
     },
     "execution_count": 33,
     "metadata": {},
     "output_type": "execute_result"
    }
   ],
   "source": [
    "test.columns"
   ]
  },
  {
   "cell_type": "code",
   "execution_count": 34,
   "metadata": {
    "scrolled": true
   },
   "outputs": [
    {
     "data": {
      "text/plain": [
       "1.0     10530\n",
       "0.0      3346\n",
       "2.0      1381\n",
       "3.0       321\n",
       "4.0       100\n",
       "5.0        42\n",
       "6.0        23\n",
       "7.0        10\n",
       "8.0         9\n",
       "10.0        4\n",
       "9.0         3\n",
       "11.0        2\n",
       "20.0        1\n",
       "40.0        1\n",
       "14.0        1\n",
       "12.0        1\n",
       "18.0        1\n",
       "Name: X_12, dtype: int64"
      ]
     },
     "execution_count": 34,
     "metadata": {},
     "output_type": "execute_result"
    }
   ],
   "source": [
    "test['X_12'].value_counts()"
   ]
  },
  {
   "cell_type": "code",
   "execution_count": 35,
   "metadata": {
    "collapsed": true
   },
   "outputs": [],
   "source": [
    "test['X_12'] = test['X_12'].fillna(1)"
   ]
  },
  {
   "cell_type": "code",
   "execution_count": 36,
   "metadata": {},
   "outputs": [
    {
     "name": "stdout",
     "output_type": "stream",
     "text": [
      "<class 'pandas.core.frame.DataFrame'>\n",
      "RangeIndex: 15903 entries, 0 to 15902\n",
      "Data columns (total 18 columns):\n",
      " #   Column       Non-Null Count  Dtype  \n",
      "---  ------       --------------  -----  \n",
      " 0   INCIDENT_ID  15903 non-null  object \n",
      " 1   DATE         15903 non-null  object \n",
      " 2   X_1          15903 non-null  int64  \n",
      " 3   X_2          15903 non-null  int64  \n",
      " 4   X_3          15903 non-null  int64  \n",
      " 5   X_4          15903 non-null  int64  \n",
      " 6   X_5          15903 non-null  int64  \n",
      " 7   X_6          15903 non-null  int64  \n",
      " 8   X_7          15903 non-null  int64  \n",
      " 9   X_8          15903 non-null  int64  \n",
      " 10  X_9          15903 non-null  int64  \n",
      " 11  X_10         15903 non-null  int64  \n",
      " 12  X_11         15903 non-null  int64  \n",
      " 13  X_12         15903 non-null  float64\n",
      " 14  X_13         15903 non-null  int64  \n",
      " 15  X_14         15903 non-null  int64  \n",
      " 16  X_15         15903 non-null  int64  \n",
      " 17  int          15903 non-null  int64  \n",
      "dtypes: float64(1), int64(15), object(2)\n",
      "memory usage: 2.2+ MB\n"
     ]
    }
   ],
   "source": [
    "test.info()"
   ]
  },
  {
   "cell_type": "code",
   "execution_count": 37,
   "metadata": {
    "collapsed": true
   },
   "outputs": [],
   "source": [
    "#test = test.dropna()"
   ]
  },
  {
   "cell_type": "code",
   "execution_count": 38,
   "metadata": {},
   "outputs": [
    {
     "data": {
      "text/plain": [
       "1.0     10657\n",
       "0.0      3346\n",
       "2.0      1381\n",
       "3.0       321\n",
       "4.0       100\n",
       "5.0        42\n",
       "6.0        23\n",
       "7.0        10\n",
       "8.0         9\n",
       "10.0        4\n",
       "9.0         3\n",
       "11.0        2\n",
       "20.0        1\n",
       "40.0        1\n",
       "14.0        1\n",
       "12.0        1\n",
       "18.0        1\n",
       "Name: X_12, dtype: int64"
      ]
     },
     "execution_count": 38,
     "metadata": {},
     "output_type": "execute_result"
    }
   ],
   "source": [
    "test['X_12'].value_counts()"
   ]
  },
  {
   "cell_type": "code",
   "execution_count": 39,
   "metadata": {
    "collapsed": true
   },
   "outputs": [],
   "source": [
    "x_test =  test[['X_1', 'X_2', 'X_3', 'X_4', 'X_5', 'X_6', 'X_7',\n",
    "                'X_8', 'X_9', 'X_10', 'X_11', 'X_12', 'X_13', 'X_14', 'X_15','int']]"
   ]
  },
  {
   "cell_type": "code",
   "execution_count": 40,
   "metadata": {
    "collapsed": true
   },
   "outputs": [],
   "source": [
    "y_pred = classifier.predict(x_test)\n",
    "y_pred = (y_pred > 0.5)"
   ]
  },
  {
   "cell_type": "code",
   "execution_count": 41,
   "metadata": {
    "collapsed": true
   },
   "outputs": [],
   "source": [
    "sub = pd.DataFrame()"
   ]
  },
  {
   "cell_type": "code",
   "execution_count": 42,
   "metadata": {
    "collapsed": true
   },
   "outputs": [],
   "source": [
    "sub['INCIDENT_ID'] = test['INCIDENT_ID']\n",
    "sub['MULTIPLE_OFFENSE'] = y_pred"
   ]
  },
  {
   "cell_type": "code",
   "execution_count": 43,
   "metadata": {},
   "outputs": [
    {
     "data": {
      "text/html": [
       "<div>\n",
       "<style scoped>\n",
       "    .dataframe tbody tr th:only-of-type {\n",
       "        vertical-align: middle;\n",
       "    }\n",
       "\n",
       "    .dataframe tbody tr th {\n",
       "        vertical-align: top;\n",
       "    }\n",
       "\n",
       "    .dataframe thead th {\n",
       "        text-align: right;\n",
       "    }\n",
       "</style>\n",
       "<table border=\"1\" class=\"dataframe\">\n",
       "  <thead>\n",
       "    <tr style=\"text-align: right;\">\n",
       "      <th></th>\n",
       "      <th>INCIDENT_ID</th>\n",
       "      <th>MULTIPLE_OFFENSE</th>\n",
       "    </tr>\n",
       "  </thead>\n",
       "  <tbody>\n",
       "    <tr>\n",
       "      <th>0</th>\n",
       "      <td>CR_195453</td>\n",
       "      <td>True</td>\n",
       "    </tr>\n",
       "    <tr>\n",
       "      <th>1</th>\n",
       "      <td>CR_103520</td>\n",
       "      <td>True</td>\n",
       "    </tr>\n",
       "    <tr>\n",
       "      <th>2</th>\n",
       "      <td>CR_196089</td>\n",
       "      <td>True</td>\n",
       "    </tr>\n",
       "    <tr>\n",
       "      <th>3</th>\n",
       "      <td>CR_112195</td>\n",
       "      <td>True</td>\n",
       "    </tr>\n",
       "    <tr>\n",
       "      <th>4</th>\n",
       "      <td>CR_149832</td>\n",
       "      <td>True</td>\n",
       "    </tr>\n",
       "    <tr>\n",
       "      <th>...</th>\n",
       "      <td>...</td>\n",
       "      <td>...</td>\n",
       "    </tr>\n",
       "    <tr>\n",
       "      <th>15898</th>\n",
       "      <td>CR_44468</td>\n",
       "      <td>True</td>\n",
       "    </tr>\n",
       "    <tr>\n",
       "      <th>15899</th>\n",
       "      <td>CR_158460</td>\n",
       "      <td>True</td>\n",
       "    </tr>\n",
       "    <tr>\n",
       "      <th>15900</th>\n",
       "      <td>CR_115946</td>\n",
       "      <td>True</td>\n",
       "    </tr>\n",
       "    <tr>\n",
       "      <th>15901</th>\n",
       "      <td>CR_137663</td>\n",
       "      <td>False</td>\n",
       "    </tr>\n",
       "    <tr>\n",
       "      <th>15902</th>\n",
       "      <td>CR_33545</td>\n",
       "      <td>True</td>\n",
       "    </tr>\n",
       "  </tbody>\n",
       "</table>\n",
       "<p>15903 rows × 2 columns</p>\n",
       "</div>"
      ],
      "text/plain": [
       "      INCIDENT_ID  MULTIPLE_OFFENSE\n",
       "0       CR_195453              True\n",
       "1       CR_103520              True\n",
       "2       CR_196089              True\n",
       "3       CR_112195              True\n",
       "4       CR_149832              True\n",
       "...           ...               ...\n",
       "15898    CR_44468              True\n",
       "15899   CR_158460              True\n",
       "15900   CR_115946              True\n",
       "15901   CR_137663             False\n",
       "15902    CR_33545              True\n",
       "\n",
       "[15903 rows x 2 columns]"
      ]
     },
     "execution_count": 43,
     "metadata": {},
     "output_type": "execute_result"
    }
   ],
   "source": [
    "sub"
   ]
  },
  {
   "cell_type": "code",
   "execution_count": 44,
   "metadata": {
    "collapsed": true
   },
   "outputs": [],
   "source": [
    "sub['MULTIPLE_OFFENSE'] = sub['MULTIPLE_OFFENSE'].replace(True, 1)"
   ]
  },
  {
   "cell_type": "code",
   "execution_count": 45,
   "metadata": {
    "collapsed": true
   },
   "outputs": [],
   "source": [
    "sub['MULTIPLE_OFFENSE'] = sub['MULTIPLE_OFFENSE'].replace(False, 0)"
   ]
  },
  {
   "cell_type": "code",
   "execution_count": 46,
   "metadata": {},
   "outputs": [
    {
     "data": {
      "text/html": [
       "<div>\n",
       "<style scoped>\n",
       "    .dataframe tbody tr th:only-of-type {\n",
       "        vertical-align: middle;\n",
       "    }\n",
       "\n",
       "    .dataframe tbody tr th {\n",
       "        vertical-align: top;\n",
       "    }\n",
       "\n",
       "    .dataframe thead th {\n",
       "        text-align: right;\n",
       "    }\n",
       "</style>\n",
       "<table border=\"1\" class=\"dataframe\">\n",
       "  <thead>\n",
       "    <tr style=\"text-align: right;\">\n",
       "      <th></th>\n",
       "      <th>INCIDENT_ID</th>\n",
       "      <th>MULTIPLE_OFFENSE</th>\n",
       "    </tr>\n",
       "  </thead>\n",
       "  <tbody>\n",
       "    <tr>\n",
       "      <th>0</th>\n",
       "      <td>CR_195453</td>\n",
       "      <td>1.0</td>\n",
       "    </tr>\n",
       "    <tr>\n",
       "      <th>1</th>\n",
       "      <td>CR_103520</td>\n",
       "      <td>1.0</td>\n",
       "    </tr>\n",
       "    <tr>\n",
       "      <th>2</th>\n",
       "      <td>CR_196089</td>\n",
       "      <td>1.0</td>\n",
       "    </tr>\n",
       "    <tr>\n",
       "      <th>3</th>\n",
       "      <td>CR_112195</td>\n",
       "      <td>1.0</td>\n",
       "    </tr>\n",
       "    <tr>\n",
       "      <th>4</th>\n",
       "      <td>CR_149832</td>\n",
       "      <td>1.0</td>\n",
       "    </tr>\n",
       "    <tr>\n",
       "      <th>...</th>\n",
       "      <td>...</td>\n",
       "      <td>...</td>\n",
       "    </tr>\n",
       "    <tr>\n",
       "      <th>15898</th>\n",
       "      <td>CR_44468</td>\n",
       "      <td>1.0</td>\n",
       "    </tr>\n",
       "    <tr>\n",
       "      <th>15899</th>\n",
       "      <td>CR_158460</td>\n",
       "      <td>1.0</td>\n",
       "    </tr>\n",
       "    <tr>\n",
       "      <th>15900</th>\n",
       "      <td>CR_115946</td>\n",
       "      <td>1.0</td>\n",
       "    </tr>\n",
       "    <tr>\n",
       "      <th>15901</th>\n",
       "      <td>CR_137663</td>\n",
       "      <td>0.0</td>\n",
       "    </tr>\n",
       "    <tr>\n",
       "      <th>15902</th>\n",
       "      <td>CR_33545</td>\n",
       "      <td>1.0</td>\n",
       "    </tr>\n",
       "  </tbody>\n",
       "</table>\n",
       "<p>15903 rows × 2 columns</p>\n",
       "</div>"
      ],
      "text/plain": [
       "      INCIDENT_ID  MULTIPLE_OFFENSE\n",
       "0       CR_195453               1.0\n",
       "1       CR_103520               1.0\n",
       "2       CR_196089               1.0\n",
       "3       CR_112195               1.0\n",
       "4       CR_149832               1.0\n",
       "...           ...               ...\n",
       "15898    CR_44468               1.0\n",
       "15899   CR_158460               1.0\n",
       "15900   CR_115946               1.0\n",
       "15901   CR_137663               0.0\n",
       "15902    CR_33545               1.0\n",
       "\n",
       "[15903 rows x 2 columns]"
      ]
     },
     "execution_count": 46,
     "metadata": {},
     "output_type": "execute_result"
    }
   ],
   "source": [
    "sub"
   ]
  },
  {
   "cell_type": "code",
   "execution_count": 47,
   "metadata": {
    "collapsed": true
   },
   "outputs": [],
   "source": [
    "sub.to_csv('/home/asi/Documents/Novartis/submission/sample_submission.csv', index = False)"
   ]
  },
  {
   "cell_type": "code",
   "execution_count": 48,
   "metadata": {},
   "outputs": [
    {
     "data": {
      "text/plain": [
       "1.0    13983\n",
       "0.0     1920\n",
       "Name: MULTIPLE_OFFENSE, dtype: int64"
      ]
     },
     "execution_count": 48,
     "metadata": {},
     "output_type": "execute_result"
    }
   ],
   "source": [
    "sub['MULTIPLE_OFFENSE'].value_counts()"
   ]
  },
  {
   "cell_type": "code",
   "execution_count": null,
   "metadata": {
    "collapsed": true
   },
   "outputs": [],
   "source": []
  }
 ],
 "metadata": {
  "kernelspec": {
   "display_name": "Python 3 (ipykernel)",
   "language": "python",
   "name": "python3"
  },
  "language_info": {
   "codemirror_mode": {
    "name": "ipython",
    "version": 3
   },
   "file_extension": ".py",
   "mimetype": "text/x-python",
   "name": "python",
   "nbconvert_exporter": "python",
   "pygments_lexer": "ipython3",
   "version": "3.9.12"
  }
 },
 "nbformat": 4,
 "nbformat_minor": 2
}
